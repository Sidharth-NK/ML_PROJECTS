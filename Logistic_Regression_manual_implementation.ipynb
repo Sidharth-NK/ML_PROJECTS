{
  "nbformat": 4,
  "nbformat_minor": 0,
  "metadata": {
    "colab": {
      "provenance": [],
      "authorship_tag": "ABX9TyO/oAMDohgMATDImZAO0JMm",
      "include_colab_link": true
    },
    "kernelspec": {
      "name": "python3",
      "display_name": "Python 3"
    },
    "language_info": {
      "name": "python"
    }
  },
  "cells": [
    {
      "cell_type": "markdown",
      "metadata": {
        "id": "view-in-github",
        "colab_type": "text"
      },
      "source": [
        "<a href=\"https://colab.research.google.com/github/Sidharth-NK/ML_PROJECTS/blob/main/Logistic_Regression_manual_implementation.ipynb\" target=\"_parent\"><img src=\"https://colab.research.google.com/assets/colab-badge.svg\" alt=\"Open In Colab\"/></a>"
      ]
    },
    {
      "cell_type": "code",
      "source": [
        "import numpy as np\n",
        "import matplotlib.pyplot as plt\n",
        "from sklearn.datasets import make_blobs\n",
        "from sklearn.model_selection import train_test_split"
      ],
      "metadata": {
        "id": "xzwsmg00Irbe"
      },
      "execution_count": 1,
      "outputs": []
    },
    {
      "cell_type": "code",
      "source": [
        "# Generate synthetic dataset\n",
        "X, y = make_blobs(n_samples=2000, n_features=2, cluster_std=3, centers=2, random_state=42)\n",
        "y = y.reshape(-1, 1)  # Convert y into a column vector"
      ],
      "metadata": {
        "id": "LUQUsXanIuOP"
      },
      "execution_count": 2,
      "outputs": []
    },
    {
      "cell_type": "code",
      "source": [
        "# Normalize features\n",
        "def normalize(X):\n",
        "    u = X.mean(axis=0)\n",
        "    std = X.std(axis=0)\n",
        "    return (X - u) / std\n",
        "\n",
        "X = normalize(X)"
      ],
      "metadata": {
        "id": "m8udcrNXI0Cv"
      },
      "execution_count": 3,
      "outputs": []
    },
    {
      "cell_type": "code",
      "source": [
        "# Train-Test Split\n",
        "X_train, X_test, y_train, y_test = train_test_split(X, y, test_size=0.25, random_state=0)"
      ],
      "metadata": {
        "id": "I3HR6yPdI5WM"
      },
      "execution_count": 4,
      "outputs": []
    },
    {
      "cell_type": "code",
      "source": [
        "# Add bias column (extra column of ones)\n",
        "def addExtraColumn(X):\n",
        "    ones = np.ones((X.shape[0], 1))\n",
        "    return np.hstack((ones, X))\n",
        "\n",
        "X_train = addExtraColumn(X_train)\n",
        "X_test = addExtraColumn(X_test)\n"
      ],
      "metadata": {
        "id": "lVX-9QGhI97a"
      },
      "execution_count": 5,
      "outputs": []
    },
    {
      "cell_type": "code",
      "source": [
        "# Sigmoid Function\n",
        "def sigmoid(z):\n",
        "    return 1 / (1 + np.exp(-z))"
      ],
      "metadata": {
        "id": "BvAAE2ZcJCGA"
      },
      "execution_count": 6,
      "outputs": []
    },
    {
      "cell_type": "code",
      "source": [
        "# Hypothesis Function\n",
        "def hypothesis(X, theta):\n",
        "    return sigmoid(np.dot(X, theta))\n"
      ],
      "metadata": {
        "id": "j7RNiMUKJEPZ"
      },
      "execution_count": 7,
      "outputs": []
    },
    {
      "cell_type": "code",
      "source": [
        "# Binary Cross-Entropy Loss\n",
        "def error(y, yp):\n",
        "    return np.mean(-y * np.log(yp) - (1 - y) * np.log(1 - yp))\n"
      ],
      "metadata": {
        "id": "RLn5wIJgJGUp"
      },
      "execution_count": 8,
      "outputs": []
    },
    {
      "cell_type": "code",
      "source": [
        "# Compute Gradient\n",
        "def gradient(X, y, yp):\n",
        "    m = X.shape[0]\n",
        "    return (-1/m) * np.dot(X.T, (y - yp))\n"
      ],
      "metadata": {
        "id": "9GYkQoCiJIk3"
      },
      "execution_count": 9,
      "outputs": []
    },
    {
      "cell_type": "code",
      "source": [
        "# Train Model using Gradient Descent\n",
        "def train(X, y, max_iters=100, learning_rate=0.1):\n",
        "    theta = np.random.randn(X.shape[1], 1)  # Initialize theta\n",
        "    error_list = []\n",
        "\n",
        "    for i in range(max_iters):\n",
        "        yp = hypothesis(X, theta)\n",
        "        e = error(y, yp)\n",
        "        error_list.append(e)\n",
        "        grad = gradient(X, y, yp)\n",
        "        theta -= learning_rate * grad  # Update theta\n",
        "\n",
        "    plt.plot(error_list)\n",
        "    plt.xlabel(\"Iterations\")\n",
        "    plt.ylabel(\"Loss\")\n",
        "    plt.title(\"Training Loss Curve\")\n",
        "    plt.show()\n",
        "\n",
        "    return theta"
      ],
      "metadata": {
        "id": "HcO1pIveJLFs"
      },
      "execution_count": 10,
      "outputs": []
    },
    {
      "cell_type": "code",
      "source": [
        "# Train the logistic regression model\n",
        "theta = train(X_train, y_train)\n"
      ],
      "metadata": {
        "colab": {
          "base_uri": "https://localhost:8080/",
          "height": 472
        },
        "id": "jNFYZcU-JOxy",
        "outputId": "0901a9a1-32e4-4c5f-9812-9edbba736401"
      },
      "execution_count": 11,
      "outputs": [
        {
          "output_type": "display_data",
          "data": {
            "text/plain": [
              "<Figure size 640x480 with 1 Axes>"
            ],
            "image/png": "[encoded data removed]"
          },
          "metadata": {}
        }
      ]
    },
    {
      "cell_type": "code",
      "source": [
        "# Predictions\n",
        "def predict(X, theta):\n",
        "    return (hypothesis(X, theta) >= 0.5).astype(int)"
      ],
      "metadata": {
        "id": "xAedbyQuJPyF"
      },
      "execution_count": 12,
      "outputs": []
    },
    {
      "cell_type": "code",
      "source": [
        "# Evaluate Model\n",
        "y_pred = predict(X_test, theta)\n",
        "accuracy = np.mean(y_pred == y_test) * 100\n",
        "print(f\"Model Accuracy: {accuracy:.2f}%\")"
      ],
      "metadata": {
        "colab": {
          "base_uri": "https://localhost:8080/"
        },
        "id": "Fc13Qma8JToF",
        "outputId": "ba0b7f21-fb77-4c23-e085-1c431348d5d3"
      },
      "execution_count": 13,
      "outputs": [
        {
          "output_type": "stream",
          "name": "stdout",
          "text": [
            "Model Accuracy: 93.40%\n"
          ]
        }
      ]
    }
  ]
}